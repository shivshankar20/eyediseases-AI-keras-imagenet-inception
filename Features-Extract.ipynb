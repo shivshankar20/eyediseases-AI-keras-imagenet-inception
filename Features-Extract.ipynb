{
 "cells": [
  {
   "cell_type": "code",
   "execution_count": 7,
   "metadata": {},
   "outputs": [],
   "source": [
    "from keras.applications.inception_v3 import InceptionV3, conv2d_bn\n",
    "from keras.models import Model\n",
    "from keras.layers import Dropout, Flatten, Dense, Input\n",
    "from keras import optimizers\n",
    "import os\n",
    "import numpy as np\n",
    "from keras.preprocessing.image import ImageDataGenerator\n",
    "import h5py\n",
    "from __future__ import print_function"
   ]
  },
  {
   "cell_type": "code",
   "execution_count": 2,
   "metadata": {
    "scrolled": false
   },
   "outputs": [],
   "source": [
    "conv_base = InceptionV3(weights='imagenet', include_top=False)"
   ]
  },
  {
   "cell_type": "code",
   "execution_count": 3,
   "metadata": {},
   "outputs": [],
   "source": [
    "train_dir = '../OCT2017/train'\n",
    "validation_dir = '../OCT2017/test' "
   ]
  },
  {
   "cell_type": "code",
   "execution_count": 4,
   "metadata": {},
   "outputs": [],
   "source": [
    "def extract_features(file_name, directory, key, sample_count, target_size, batch_size, class_mode='categorical'):\n",
    "    h5_file = h5py.File(file_name, 'w')\n",
    "    datagen = ImageDataGenerator(rescale=1./255)\n",
    "\n",
    "    generator = datagen.flow_from_directory(directory, target_size=target_size,\n",
    "        batch_size=batch_size, class_mode=class_mode)\n",
    "    \n",
    "    samples_processed = 0\n",
    "    batch_number = 0\n",
    "    if sample_count == 'all':\n",
    "        sample_count = generator.n\n",
    "          \n",
    "    print_size = True\n",
    "    for inputs_batch, labels_batch in generator:\n",
    "        features_batch = conv_base.predict(inputs_batch)\n",
    "        \n",
    "        if print_size == True:\n",
    "            print_size = False\n",
    "            print('Features shape', features_batch.shape)\n",
    "            \n",
    "        samples_processed += inputs_batch.shape[0]\n",
    "        h5_file.create_dataset('features-'+ str(batch_number), data=features_batch)\n",
    "        h5_file.create_dataset('labels-'+str(batch_number), data=labels_batch)\n",
    "        batch_number = batch_number + 1\n",
    "        print(\"Batch:%d Sample:%d\\r\" % (batch_number,samples_processed), end=\"\")\n",
    "        if samples_processed >= sample_count:\n",
    "            break\n",
    "  \n",
    "    h5_file.create_dataset('batches', data=batch_number)\n",
    "    h5_file.close()\n",
    "    return "
   ]
  },
  {
   "cell_type": "code",
   "execution_count": 5,
   "metadata": {},
   "outputs": [
    {
     "name": "stdout",
     "output_type": "stream",
     "text": [
      "Found 83484 images belonging to 4 classes.\n",
      "Features shape (100, 8, 8, 2048)\n",
      "Batch:835 Sample:83484\r"
     ]
    }
   ],
   "source": [
    "extract_features('./data/train.h5', train_dir, key='train', \n",
    "                                    sample_count='all', batch_size=100, target_size=(299,299))"
   ]
  },
  {
   "cell_type": "code",
   "execution_count": 6,
   "metadata": {},
   "outputs": [
    {
     "name": "stdout",
     "output_type": "stream",
     "text": [
      "Found 1000 images belonging to 4 classes.\n",
      "Features shape (100, 8, 8, 2048)\n",
      "Batch:10 Sample:1000\r"
     ]
    }
   ],
   "source": [
    "extract_features('./data/validation.h5', validation_dir, key='validation', \n",
    "                                    sample_count='all', batch_size=100, target_size=(299,299))"
   ]
  }
 ],
 "metadata": {
  "kernelspec": {
   "display_name": "Python 2",
   "language": "python",
   "name": "python2"
  },
  "language_info": {
   "codemirror_mode": {
    "name": "ipython",
    "version": 2
   },
   "file_extension": ".py",
   "mimetype": "text/x-python",
   "name": "python",
   "nbconvert_exporter": "python",
   "pygments_lexer": "ipython2",
   "version": "2.7.14"
  }
 },
 "nbformat": 4,
 "nbformat_minor": 2
}
